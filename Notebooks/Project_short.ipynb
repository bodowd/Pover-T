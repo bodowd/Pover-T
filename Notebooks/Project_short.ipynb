{
 "cells": [
  {
   "cell_type": "markdown",
   "metadata": {},
   "source": [
    "# The Competition\n",
    "\n",
    "Overall goal: Identify predictors of poverty to maximize the impact and cost effectiveness of poverty reduction interventions.\n",
    "\n",
    "\n",
    "- Binary classification\n",
    "\n",
    "- Competition metric is mean log loss:\n",
    "$$ - \\frac{1}{M} \\sum\\limits_{m = 1}^{M} \\frac{1}{N_m} \\sum\\limits_{n = 1}^{N_m} [y_nlog(\\hat{y})+(1-y_n)log(1-\\hat{y_n})]$$\n",
    "\n",
    "- Three countries "
   ]
  },
  {
   "cell_type": "code",
   "execution_count": 2,
   "metadata": {
    "collapsed": true
   },
   "outputs": [],
   "source": [
    "import sys\n",
    "sys.path.append(\"/Users/Bing/Documents/DS/DrivenData/Pover-T/Scripts/\") # need to add path to the parent folder where CV.py is\n",
    "\n",
    "from PoverTHelperTools import *\n",
    "\n",
    "import pandas as pd\n",
    "import numpy as np\n",
    "\n",
    "import matplotlib.pyplot as plt\n",
    "%matplotlib inline\n",
    "\n",
    "import seaborn as sns\n",
    "\n",
    "import warnings\n",
    "warnings.filterwarnings('ignore')"
   ]
  },
  {
   "cell_type": "markdown",
   "metadata": {},
   "source": [
    "# Overview of the data"
   ]
  },
  {
   "cell_type": "code",
   "execution_count": 3,
   "metadata": {
    "collapsed": true
   },
   "outputs": [],
   "source": [
    "hhold_a_train, hhold_b_train, hhold_c_train = load_hhold_train()\n",
    "indiv_a_train, indiv_b_train, indiv_c_train = load_indiv_train()"
   ]
  },
  {
   "cell_type": "markdown",
   "metadata": {},
   "source": [
    "- Two sets of data for each country. Individual and household data.\n",
    "\n",
    "- Will predict on household. Individual data is to construct new features.\n",
    "\n",
    "- All data is obfuscated."
   ]
  },
  {
   "cell_type": "code",
   "execution_count": 4,
   "metadata": {},
   "outputs": [
    {
     "data": {
      "text/html": [
       "<div>\n",
       "<style>\n",
       "    .dataframe thead tr:only-child th {\n",
       "        text-align: right;\n",
       "    }\n",
       "\n",
       "    .dataframe thead th {\n",
       "        text-align: left;\n",
       "    }\n",
       "\n",
       "    .dataframe tbody tr th {\n",
       "        vertical-align: top;\n",
       "    }\n",
       "</style>\n",
       "<table border=\"1\" class=\"dataframe\">\n",
       "  <thead>\n",
       "    <tr style=\"text-align: right;\">\n",
       "      <th></th>\n",
       "      <th>wBXbHZmp</th>\n",
       "      <th>SlDKnCuu</th>\n",
       "      <th>KAJOWiiw</th>\n",
       "      <th>DsKacCdL</th>\n",
       "      <th>rtPrBBPl</th>\n",
       "      <th>tMJrvvut</th>\n",
       "      <th>jdetlNNF</th>\n",
       "      <th>maLAYXwi</th>\n",
       "      <th>vwpsXRGk</th>\n",
       "      <th>sArDRIyX</th>\n",
       "      <th>...</th>\n",
       "      <th>sDGibZrP</th>\n",
       "      <th>CsGvKKBJ</th>\n",
       "      <th>OLpGAaEu</th>\n",
       "      <th>LrDrWRjC</th>\n",
       "      <th>JCDeZBXq</th>\n",
       "      <th>HGPWuGlV</th>\n",
       "      <th>GDUPaBQs</th>\n",
       "      <th>WuwrCsIY</th>\n",
       "      <th>AlDbXTlZ</th>\n",
       "      <th>country</th>\n",
       "    </tr>\n",
       "    <tr>\n",
       "      <th>id</th>\n",
       "      <th></th>\n",
       "      <th></th>\n",
       "      <th></th>\n",
       "      <th></th>\n",
       "      <th></th>\n",
       "      <th></th>\n",
       "      <th></th>\n",
       "      <th></th>\n",
       "      <th></th>\n",
       "      <th></th>\n",
       "      <th></th>\n",
       "      <th></th>\n",
       "      <th></th>\n",
       "      <th></th>\n",
       "      <th></th>\n",
       "      <th></th>\n",
       "      <th></th>\n",
       "      <th></th>\n",
       "      <th></th>\n",
       "      <th></th>\n",
       "      <th></th>\n",
       "    </tr>\n",
       "  </thead>\n",
       "  <tbody>\n",
       "    <tr>\n",
       "      <th>46107</th>\n",
       "      <td>JhtDR</td>\n",
       "      <td>GUusz</td>\n",
       "      <td>TuovO</td>\n",
       "      <td>ZYabk</td>\n",
       "      <td>feupP</td>\n",
       "      <td>PHMVg</td>\n",
       "      <td>NDTCU</td>\n",
       "      <td>cLAGr</td>\n",
       "      <td>XAmOF</td>\n",
       "      <td>MwLvg</td>\n",
       "      <td>...</td>\n",
       "      <td>JqHnW</td>\n",
       "      <td>MaXfS</td>\n",
       "      <td>etZsD</td>\n",
       "      <td>idRwx</td>\n",
       "      <td>LPtkN</td>\n",
       "      <td>vkbkA</td>\n",
       "      <td>qQxrL</td>\n",
       "      <td>AITFl</td>\n",
       "      <td>aQeIm</td>\n",
       "      <td>A</td>\n",
       "    </tr>\n",
       "    <tr>\n",
       "      <th>82739</th>\n",
       "      <td>JhtDR</td>\n",
       "      <td>GUusz</td>\n",
       "      <td>TuovO</td>\n",
       "      <td>ZYabk</td>\n",
       "      <td>feupP</td>\n",
       "      <td>PHMVg</td>\n",
       "      <td>NDTCU</td>\n",
       "      <td>sehIp</td>\n",
       "      <td>lwCkE</td>\n",
       "      <td>MwLvg</td>\n",
       "      <td>...</td>\n",
       "      <td>JqHnW</td>\n",
       "      <td>MaXfS</td>\n",
       "      <td>HxnJy</td>\n",
       "      <td>idRwx</td>\n",
       "      <td>UyAms</td>\n",
       "      <td>vkbkA</td>\n",
       "      <td>qQxrL</td>\n",
       "      <td>AITFl</td>\n",
       "      <td>cecIq</td>\n",
       "      <td>A</td>\n",
       "    </tr>\n",
       "    <tr>\n",
       "      <th>9646</th>\n",
       "      <td>JhtDR</td>\n",
       "      <td>GUusz</td>\n",
       "      <td>BIZns</td>\n",
       "      <td>ZYabk</td>\n",
       "      <td>uxuSS</td>\n",
       "      <td>PHMVg</td>\n",
       "      <td>NDTCU</td>\n",
       "      <td>sehIp</td>\n",
       "      <td>qNABl</td>\n",
       "      <td>MwLvg</td>\n",
       "      <td>...</td>\n",
       "      <td>JqHnW</td>\n",
       "      <td>MaXfS</td>\n",
       "      <td>USRak</td>\n",
       "      <td>idRwx</td>\n",
       "      <td>UyAms</td>\n",
       "      <td>vkbkA</td>\n",
       "      <td>qQxrL</td>\n",
       "      <td>AITFl</td>\n",
       "      <td>cecIq</td>\n",
       "      <td>A</td>\n",
       "    </tr>\n",
       "    <tr>\n",
       "      <th>10975</th>\n",
       "      <td>JhtDR</td>\n",
       "      <td>GUusz</td>\n",
       "      <td>TuovO</td>\n",
       "      <td>ZYabk</td>\n",
       "      <td>feupP</td>\n",
       "      <td>PHMVg</td>\n",
       "      <td>NDTCU</td>\n",
       "      <td>sehIp</td>\n",
       "      <td>sPNOc</td>\n",
       "      <td>MwLvg</td>\n",
       "      <td>...</td>\n",
       "      <td>JqHnW</td>\n",
       "      <td>MaXfS</td>\n",
       "      <td>USRak</td>\n",
       "      <td>idRwx</td>\n",
       "      <td>UyAms</td>\n",
       "      <td>vkbkA</td>\n",
       "      <td>qQxrL</td>\n",
       "      <td>AITFl</td>\n",
       "      <td>cecIq</td>\n",
       "      <td>A</td>\n",
       "    </tr>\n",
       "    <tr>\n",
       "      <th>16463</th>\n",
       "      <td>JhtDR</td>\n",
       "      <td>alLXR</td>\n",
       "      <td>TuovO</td>\n",
       "      <td>ZYabk</td>\n",
       "      <td>feupP</td>\n",
       "      <td>PHMVg</td>\n",
       "      <td>NDTCU</td>\n",
       "      <td>cLAGr</td>\n",
       "      <td>NdlDR</td>\n",
       "      <td>MwLvg</td>\n",
       "      <td>...</td>\n",
       "      <td>JqHnW</td>\n",
       "      <td>MaXfS</td>\n",
       "      <td>etZsD</td>\n",
       "      <td>idRwx</td>\n",
       "      <td>UyAms</td>\n",
       "      <td>vkbkA</td>\n",
       "      <td>qQxrL</td>\n",
       "      <td>GAZGl</td>\n",
       "      <td>aQeIm</td>\n",
       "      <td>A</td>\n",
       "    </tr>\n",
       "  </tbody>\n",
       "</table>\n",
       "<p>5 rows × 345 columns</p>\n",
       "</div>"
      ],
      "text/plain": [
       "      wBXbHZmp SlDKnCuu KAJOWiiw DsKacCdL rtPrBBPl tMJrvvut jdetlNNF maLAYXwi  \\\n",
       "id                                                                              \n",
       "46107    JhtDR    GUusz    TuovO    ZYabk    feupP    PHMVg    NDTCU    cLAGr   \n",
       "82739    JhtDR    GUusz    TuovO    ZYabk    feupP    PHMVg    NDTCU    sehIp   \n",
       "9646     JhtDR    GUusz    BIZns    ZYabk    uxuSS    PHMVg    NDTCU    sehIp   \n",
       "10975    JhtDR    GUusz    TuovO    ZYabk    feupP    PHMVg    NDTCU    sehIp   \n",
       "16463    JhtDR    alLXR    TuovO    ZYabk    feupP    PHMVg    NDTCU    cLAGr   \n",
       "\n",
       "      vwpsXRGk sArDRIyX   ...   sDGibZrP CsGvKKBJ OLpGAaEu LrDrWRjC JCDeZBXq  \\\n",
       "id                        ...                                                  \n",
       "46107    XAmOF    MwLvg   ...      JqHnW    MaXfS    etZsD    idRwx    LPtkN   \n",
       "82739    lwCkE    MwLvg   ...      JqHnW    MaXfS    HxnJy    idRwx    UyAms   \n",
       "9646     qNABl    MwLvg   ...      JqHnW    MaXfS    USRak    idRwx    UyAms   \n",
       "10975    sPNOc    MwLvg   ...      JqHnW    MaXfS    USRak    idRwx    UyAms   \n",
       "16463    NdlDR    MwLvg   ...      JqHnW    MaXfS    etZsD    idRwx    UyAms   \n",
       "\n",
       "      HGPWuGlV GDUPaBQs WuwrCsIY AlDbXTlZ country  \n",
       "id                                                 \n",
       "46107    vkbkA    qQxrL    AITFl    aQeIm       A  \n",
       "82739    vkbkA    qQxrL    AITFl    cecIq       A  \n",
       "9646     vkbkA    qQxrL    AITFl    cecIq       A  \n",
       "10975    vkbkA    qQxrL    AITFl    cecIq       A  \n",
       "16463    vkbkA    qQxrL    GAZGl    aQeIm       A  \n",
       "\n",
       "[5 rows x 345 columns]"
      ]
     },
     "execution_count": 4,
     "metadata": {},
     "output_type": "execute_result"
    }
   ],
   "source": [
    "hhold_a_train.head()"
   ]
  },
  {
   "cell_type": "code",
   "execution_count": 5,
   "metadata": {},
   "outputs": [
    {
     "data": {
      "text/html": [
       "<div>\n",
       "<style>\n",
       "    .dataframe thead tr:only-child th {\n",
       "        text-align: right;\n",
       "    }\n",
       "\n",
       "    .dataframe thead th {\n",
       "        text-align: left;\n",
       "    }\n",
       "\n",
       "    .dataframe tbody tr th {\n",
       "        vertical-align: top;\n",
       "    }\n",
       "</style>\n",
       "<table border=\"1\" class=\"dataframe\">\n",
       "  <thead>\n",
       "    <tr style=\"text-align: right;\">\n",
       "      <th></th>\n",
       "      <th></th>\n",
       "      <th>HeUgMnzF</th>\n",
       "      <th>CaukPfUC</th>\n",
       "      <th>MzEtIdUF</th>\n",
       "      <th>gtnNTNam</th>\n",
       "      <th>SWoXNmPc</th>\n",
       "      <th>eXbOkwhI</th>\n",
       "      <th>OdXpbPGJ</th>\n",
       "      <th>XONDGWjH</th>\n",
       "      <th>KsFoQcUV</th>\n",
       "      <th>qYRZCuJD</th>\n",
       "      <th>...</th>\n",
       "      <th>ukWqmeSS</th>\n",
       "      <th>qqVibbSA</th>\n",
       "      <th>MgCoFhXK</th>\n",
       "      <th>rFpoTXAq</th>\n",
       "      <th>RXcLsVAQ</th>\n",
       "      <th>rQWIpTiG</th>\n",
       "      <th>XizJGmbu</th>\n",
       "      <th>xqUooaNJ</th>\n",
       "      <th>poor</th>\n",
       "      <th>country</th>\n",
       "    </tr>\n",
       "    <tr>\n",
       "      <th>id</th>\n",
       "      <th>iid</th>\n",
       "      <th></th>\n",
       "      <th></th>\n",
       "      <th></th>\n",
       "      <th></th>\n",
       "      <th></th>\n",
       "      <th></th>\n",
       "      <th></th>\n",
       "      <th></th>\n",
       "      <th></th>\n",
       "      <th></th>\n",
       "      <th></th>\n",
       "      <th></th>\n",
       "      <th></th>\n",
       "      <th></th>\n",
       "      <th></th>\n",
       "      <th></th>\n",
       "      <th></th>\n",
       "      <th></th>\n",
       "      <th></th>\n",
       "      <th></th>\n",
       "      <th></th>\n",
       "    </tr>\n",
       "  </thead>\n",
       "  <tbody>\n",
       "    <tr>\n",
       "      <th rowspan=\"4\" valign=\"top\">80389</th>\n",
       "      <th>1</th>\n",
       "      <td>XJsPz</td>\n",
       "      <td>mOlYV</td>\n",
       "      <td>UFoKR</td>\n",
       "      <td>SSvEP</td>\n",
       "      <td>onRNG</td>\n",
       "      <td>YXCNt</td>\n",
       "      <td>4.0</td>\n",
       "      <td>oArAw</td>\n",
       "      <td>kpkiH</td>\n",
       "      <td>fohru</td>\n",
       "      <td>...</td>\n",
       "      <td>181</td>\n",
       "      <td>QQdHS</td>\n",
       "      <td>uEstx</td>\n",
       "      <td>Hikoa</td>\n",
       "      <td>zQvdC</td>\n",
       "      <td>xUYIC</td>\n",
       "      <td>juMSt</td>\n",
       "      <td>dSJoN</td>\n",
       "      <td>True</td>\n",
       "      <td>A</td>\n",
       "    </tr>\n",
       "    <tr>\n",
       "      <th>2</th>\n",
       "      <td>XJsPz</td>\n",
       "      <td>mOlYV</td>\n",
       "      <td>axSTs</td>\n",
       "      <td>CXizI</td>\n",
       "      <td>onRNG</td>\n",
       "      <td>YXCNt</td>\n",
       "      <td>4.0</td>\n",
       "      <td>ccbZA</td>\n",
       "      <td>HgfUG</td>\n",
       "      <td>fohru</td>\n",
       "      <td>...</td>\n",
       "      <td>141</td>\n",
       "      <td>QQdHS</td>\n",
       "      <td>uEstx</td>\n",
       "      <td>Hikoa</td>\n",
       "      <td>zQvdC</td>\n",
       "      <td>xUYIC</td>\n",
       "      <td>juMSt</td>\n",
       "      <td>JTCKs</td>\n",
       "      <td>True</td>\n",
       "      <td>A</td>\n",
       "    </tr>\n",
       "    <tr>\n",
       "      <th>3</th>\n",
       "      <td>TRFeI</td>\n",
       "      <td>mOlYV</td>\n",
       "      <td>axSTs</td>\n",
       "      <td>CXizI</td>\n",
       "      <td>NDnCs</td>\n",
       "      <td>YXCNt</td>\n",
       "      <td>4.0</td>\n",
       "      <td>fOUHD</td>\n",
       "      <td>HgfUG</td>\n",
       "      <td>oEref</td>\n",
       "      <td>...</td>\n",
       "      <td>41</td>\n",
       "      <td>QQdHS</td>\n",
       "      <td>gCSRj</td>\n",
       "      <td>Hikoa</td>\n",
       "      <td>zQvdC</td>\n",
       "      <td>rkLqZ</td>\n",
       "      <td>juMSt</td>\n",
       "      <td>JTCKs</td>\n",
       "      <td>True</td>\n",
       "      <td>A</td>\n",
       "    </tr>\n",
       "    <tr>\n",
       "      <th>4</th>\n",
       "      <td>XJsPz</td>\n",
       "      <td>yAyAe</td>\n",
       "      <td>FRcdT</td>\n",
       "      <td>CXizI</td>\n",
       "      <td>onRNG</td>\n",
       "      <td>YXCNt</td>\n",
       "      <td>NaN</td>\n",
       "      <td>fOUHD</td>\n",
       "      <td>HgfUG</td>\n",
       "      <td>fohru</td>\n",
       "      <td>...</td>\n",
       "      <td>16</td>\n",
       "      <td>QQdHS</td>\n",
       "      <td>uEstx</td>\n",
       "      <td>Hikoa</td>\n",
       "      <td>zQvdC</td>\n",
       "      <td>jVHyH</td>\n",
       "      <td>GtHel</td>\n",
       "      <td>JTCKs</td>\n",
       "      <td>True</td>\n",
       "      <td>A</td>\n",
       "    </tr>\n",
       "    <tr>\n",
       "      <th>39883</th>\n",
       "      <th>1</th>\n",
       "      <td>XJsPz</td>\n",
       "      <td>mOlYV</td>\n",
       "      <td>UFoKR</td>\n",
       "      <td>HIvIU</td>\n",
       "      <td>onRNG</td>\n",
       "      <td>YXCNt</td>\n",
       "      <td>4.0</td>\n",
       "      <td>oArAw</td>\n",
       "      <td>kpkiH</td>\n",
       "      <td>fohru</td>\n",
       "      <td>...</td>\n",
       "      <td>381</td>\n",
       "      <td>QQdHS</td>\n",
       "      <td>uEstx</td>\n",
       "      <td>Hikoa</td>\n",
       "      <td>zQvdC</td>\n",
       "      <td>xUYIC</td>\n",
       "      <td>juMSt</td>\n",
       "      <td>UaIsy</td>\n",
       "      <td>False</td>\n",
       "      <td>A</td>\n",
       "    </tr>\n",
       "  </tbody>\n",
       "</table>\n",
       "<p>5 rows × 42 columns</p>\n",
       "</div>"
      ],
      "text/plain": [
       "          HeUgMnzF CaukPfUC MzEtIdUF gtnNTNam SWoXNmPc eXbOkwhI  OdXpbPGJ  \\\n",
       "id    iid                                                                   \n",
       "80389 1      XJsPz    mOlYV    UFoKR    SSvEP    onRNG    YXCNt       4.0   \n",
       "      2      XJsPz    mOlYV    axSTs    CXizI    onRNG    YXCNt       4.0   \n",
       "      3      TRFeI    mOlYV    axSTs    CXizI    NDnCs    YXCNt       4.0   \n",
       "      4      XJsPz    yAyAe    FRcdT    CXizI    onRNG    YXCNt       NaN   \n",
       "39883 1      XJsPz    mOlYV    UFoKR    HIvIU    onRNG    YXCNt       4.0   \n",
       "\n",
       "          XONDGWjH KsFoQcUV qYRZCuJD   ...   ukWqmeSS qqVibbSA MgCoFhXK  \\\n",
       "id    iid                              ...                                \n",
       "80389 1      oArAw    kpkiH    fohru   ...        181    QQdHS    uEstx   \n",
       "      2      ccbZA    HgfUG    fohru   ...        141    QQdHS    uEstx   \n",
       "      3      fOUHD    HgfUG    oEref   ...         41    QQdHS    gCSRj   \n",
       "      4      fOUHD    HgfUG    fohru   ...         16    QQdHS    uEstx   \n",
       "39883 1      oArAw    kpkiH    fohru   ...        381    QQdHS    uEstx   \n",
       "\n",
       "          rFpoTXAq RXcLsVAQ rQWIpTiG XizJGmbu xqUooaNJ   poor country  \n",
       "id    iid                                                              \n",
       "80389 1      Hikoa    zQvdC    xUYIC    juMSt    dSJoN   True       A  \n",
       "      2      Hikoa    zQvdC    xUYIC    juMSt    JTCKs   True       A  \n",
       "      3      Hikoa    zQvdC    rkLqZ    juMSt    JTCKs   True       A  \n",
       "      4      Hikoa    zQvdC    jVHyH    GtHel    JTCKs   True       A  \n",
       "39883 1      Hikoa    zQvdC    xUYIC    juMSt    UaIsy  False       A  \n",
       "\n",
       "[5 rows x 42 columns]"
      ]
     },
     "execution_count": 5,
     "metadata": {},
     "output_type": "execute_result"
    }
   ],
   "source": [
    "indiv_a_train.head()"
   ]
  },
  {
   "cell_type": "markdown",
   "metadata": {},
   "source": [
    "- 6,000-8,000 samples (160-440 features)\n",
    "- Majority are categorical features"
   ]
  },
  {
   "cell_type": "markdown",
   "metadata": {},
   "source": [
    "# Target balance?"
   ]
  },
  {
   "cell_type": "code",
   "execution_count": 6,
   "metadata": {},
   "outputs": [
    {
     "name": "stdout",
     "output_type": "stream",
     "text": [
      "Percent True for country ['A']: 45.14\n",
      "Percent True for country ['B']: 7.71\n",
      "Percent True for country ['C']: 15.04\n"
     ]
    },
    {
     "data": {
      "image/png": "[encoded data removed]",
      "text/plain": [
       "<matplotlib.figure.Figure at 0x1155416d8>"
      ]
     },
     "metadata": {},
     "output_type": "display_data"
    }
   ],
   "source": [
    "def target_ratio(df):\n",
    "    positive = df[df['poor'] == 1].shape[0]\n",
    "    return (positive/df.shape[0]*100)\n",
    "\n",
    "for i in [hhold_a_train, hhold_b_train, hhold_c_train]:\n",
    "    print('Percent True for country {}: {:0.2f}'.format(i['country'].unique(),target_ratio(i)))\n",
    "    \n",
    "fig, ax = plt.subplots(1,3, figsize=(10,5))\n",
    "sns.countplot(hhold_a_train['poor'], ax = ax[0])\n",
    "ax[0].set_title('Country A')\n",
    "sns.countplot(hhold_b_train['poor'], ax = ax[1])\n",
    "ax[1].set_title('Country B')\n",
    "sns.countplot(hhold_c_train['poor'], ax = ax[2])\n",
    "ax[2].set_title('Country C')\n",
    "sns.despine()\n",
    "plt.tight_layout()"
   ]
  },
  {
   "cell_type": "markdown",
   "metadata": {},
   "source": [
    "# Data cleaning and feature engineering"
   ]
  },
  {
   "cell_type": "markdown",
   "metadata": {},
   "source": [
    "- Started with a benchmark RandomForest model with all features --> ~0.57 mean logloss\n",
    "\n",
    "- Can I improve with feature engineering and data cleaning?\n",
    "\n",
    "- Removed NaNs"
   ]
  },
  {
   "cell_type": "markdown",
   "metadata": {},
   "source": [
    "### Numericals"
   ]
  },
  {
   "cell_type": "code",
   "execution_count": 7,
   "metadata": {
    "collapsed": true
   },
   "outputs": [],
   "source": [
    "def select_numerical(df):\n",
    "    num = df.select_dtypes(include=['int64', 'float64'])   \n",
    "    return num\n",
    "\n",
    "def select_categorical(df):\n",
    "    cat = df.select_dtypes(include=['object', 'category'])   \n",
    "    return cat"
   ]
  },
  {
   "cell_type": "code",
   "execution_count": 10,
   "metadata": {},
   "outputs": [
    {
     "name": "stdout",
     "output_type": "stream",
     "text": [
      "Number of unique values in the column:\n",
      "nEsgxvAq 11\n",
      "OMtioXZZ 13\n",
      "YFMZwKrU 6\n",
      "TiwRslOh 18\n"
     ]
    }
   ],
   "source": [
    "# using country A as an example\n",
    "a_num = select_numerical(hhold_a_train)\n",
    "a_num['poor'] = hhold_a_train['poor']\n",
    "\n",
    "print('Number of unique values in the column:')\n",
    "for col in a_num.columns[:-1]: # [:-1] don't include 'poor' in the columns\n",
    "    print(col, a_num[col].nunique())"
   ]
  },
  {
   "cell_type": "code",
   "execution_count": 11,
   "metadata": {},
   "outputs": [
    {
     "data": {
      "image/png": "[encoded data removed]",
      "text/plain": [
       "<matplotlib.figure.Figure at 0x115100b00>"
      ]
     },
     "metadata": {},
     "output_type": "display_data"
    }
   ],
   "source": [
    "fig, ax = plt.subplots(1,4, figsize = (20,5))\n",
    "for i, col in enumerate(a_num.columns[:-1]):\n",
    "    sns.kdeplot(a_num[a_num['poor']==1][col], ax=ax[i], label = True)\n",
    "    sns.kdeplot(a_num[a_num['poor']==0][col], ax=ax[i], label = False)"
   ]
  },
  {
   "cell_type": "markdown",
   "metadata": {},
   "source": [
    "### Categoricals "
   ]
  },
  {
   "cell_type": "code",
   "execution_count": 12,
   "metadata": {
    "collapsed": true
   },
   "outputs": [],
   "source": [
    "a_cat = select_categorical(hhold_a_train)\n",
    "a_cat['poor'] = hhold_a_train['poor']\n",
    "\n",
    "c_cat = select_categorical(hhold_c_train)\n",
    "c_cat['poor'] = hhold_c_train['poor']"
   ]
  },
  {
   "cell_type": "code",
   "execution_count": 13,
   "metadata": {},
   "outputs": [
    {
     "data": {
      "text/plain": [
       "<matplotlib.text.Text at 0x1150321d0>"
      ]
     },
     "execution_count": 13,
     "metadata": {},
     "output_type": "execute_result"
    },
    {
     "data": {
      "image/png": "[encoded data removed]",
      "text/plain": [
       "<matplotlib.figure.Figure at 0x115187e80>"
      ]
     },
     "metadata": {},
     "output_type": "display_data"
    }
   ],
   "source": [
    "fig, ax = plt.subplots(1,2, figsize=(15,5))\n",
    "sns.barplot('poor', y = 'poor', hue = 'SlDKnCuu', data = a_cat,estimator=lambda x: len(x) / len(a_cat) * 100, ax = ax[0])\n",
    "ax[0].set_ylabel('Percent of feature')\n",
    "sns.barplot('poor', y = 'poor', hue = 'QyBloWXZ', data = a_cat,estimator=lambda x: len(x) / len(a_cat) * 100, ax = ax[1])\n",
    "ax[1].set_ylabel('Percent of feature')"
   ]
  },
  {
   "cell_type": "code",
   "execution_count": 14,
   "metadata": {
    "scrolled": false
   },
   "outputs": [
    {
     "data": {
      "text/plain": [
       "<matplotlib.text.Text at 0x114fc4c18>"
      ]
     },
     "execution_count": 14,
     "metadata": {},
     "output_type": "execute_result"
    },
    {
     "data": {
      "image/png": "[encoded data removed]",
      "text/plain": [
       "<matplotlib.figure.Figure at 0x1170455c0>"
      ]
     },
     "metadata": {},
     "output_type": "display_data"
    }
   ],
   "source": [
    "# Country B and C need a different strategy\n",
    "sns.barplot('poor', y = 'poor', hue = 'LbGNqKmW', data = c_cat,estimator=lambda x: len(x) / len(a_cat) * 100)\n",
    "plt.ylabel('Percent of feature')"
   ]
  },
  {
   "cell_type": "markdown",
   "metadata": {},
   "source": [
    "- Removed features with one unique value, removed correlated features\n",
    "\n",
    "- Created new 'num_indiv' feature from individual data set"
   ]
  },
  {
   "cell_type": "markdown",
   "metadata": {},
   "source": [
    "# A big problem...\n",
    "\n",
    "Log loss is similar to using accuracy to measure performance on unbalanced data sets, it's not a good metric.\n",
    "\n",
    "$$ - \\frac{1}{M} \\sum\\limits_{m = 1}^{M} \\frac{1}{N_m} \\sum\\limits_{n = 1}^{N_m} [y_nlog(\\hat{y})+(1-y_n)log(1-\\hat{y_n})]$$\n",
    "\n",
    "\n",
    "- Strongly penalizes confident but wrong predictions, penalizes less conservative but wrong predictions.\n",
    "- Does not distinguish between False Positives/Negatives from TP/TN.\n",
    "- Example: let's say there's a threshold of 0.5 (<0.5 == False)\n",
    "    - the model can predict 'False' either with probability of ~0.4 or ~0.1\n",
    "    - But let's say the actual value is 'True'\n",
    "    - Log loss for 0.4 is 0.92\n",
    "    - Log loss for 0.1 is 2.3!\n",
    "    - Both are false negatives\n",
    "\n",
    "\n",
    "\n",
    "Demonstration: switching to terminal..."
   ]
  },
  {
   "cell_type": "code",
   "execution_count": 17,
   "metadata": {
    "collapsed": true
   },
   "outputs": [],
   "source": [
    "# Note: activate env, then run CV_B.py and CV_B_resampled.py"
   ]
  },
  {
   "cell_type": "markdown",
   "metadata": {},
   "source": [
    "# Machine Learning"
   ]
  },
  {
   "cell_type": "markdown",
   "metadata": {},
   "source": [
    "#### Cross validation\n",
    "\n",
    "Difficult to create a cross validation that would emulate the test set. \n",
    "\n",
    "\n",
    "- Stratified KFold to preserve the class balances, then:\n",
    "    - Within the KFold CV loop:\n",
    "        - Resample the minority class (Tried up and down sampling, as well as SMOTE) Up and Downsampling were similar in performance. SMOTE made things worse\n",
    "        - Standardize numericals **_inside_** the loop, otherwise data leaks into CV (ex: Average of a feature in k-fold could be different from the average of that feature in the whole train set)\n",
    "        \n",
    "#### Resampling\n",
    "- Using resampling on the whole train set to predict on test set made things worse! CV and test set scores differ quite a bit. \n",
    "\n",
    "    - Hypothesis: Test set and Train set distributions were different. Tried Adversarial validation.         \n",
    "    - Result: Classifier can not distinguish between train and test set samples; they are of similar distributions.\n",
    "\n",
    "#### Models\n",
    "\n",
    "- Logistic Regression, Random Forest, and Gradient Boosted Machines from sklearn\n",
    "- LightGBM\n",
    "- XGBoost was the best. Used GridSearch to tune better.\n"
   ]
  }
 ],
 "metadata": {
  "kernelspec": {
   "display_name": "Python [DeepLearning]",
   "language": "python",
   "name": "Python [DeepLearning]"
  },
  "language_info": {
   "codemirror_mode": {
    "name": "ipython",
    "version": 3
   },
   "file_extension": ".py",
   "mimetype": "text/x-python",
   "name": "python",
   "nbconvert_exporter": "python",
   "pygments_lexer": "ipython3",
   "version": "3.6.1"
  }
 },
 "nbformat": 4,
 "nbformat_minor": 2
}
