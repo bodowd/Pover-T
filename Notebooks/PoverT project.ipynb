{
 "cells": [
  {
   "cell_type": "markdown",
   "metadata": {},
   "source": [
    "# Motivation\n",
    "\n",
    "Wanted to work on a binary classification problem, with real-world messy data."
   ]
  },
  {
   "cell_type": "markdown",
   "metadata": {},
   "source": [
    "# Problem Statement\n",
    "\n",
    "Overall: identify predictors that can be used in future surveys, and to more accurately target people who take the surveys. Maximize impact and cost effectiveness of poverty reduction interventions.\n",
    "\n",
    "\n",
    "- Binary classification\n",
    "\n",
    "- Competition metric is mean log loss:\n",
    "$$ - \\frac{1}{M} \\sum\\limits_{m = 1}^{M} \\frac{1}{N_m} \\sum\\limits_{m = 1}^{N_m} [y_nlog(\\hat{y})+(1-y_n)log(1-\\hat{y_n})]$$\n",
    "\n",
    "- Three countries "
   ]
  },
  {
   "cell_type": "code",
   "execution_count": 34,
   "metadata": {
    "collapsed": true
   },
   "outputs": [],
   "source": [
    "import sys\n",
    "sys.path.append(\"/Users/Bing/Documents/DS/DrivenData/Pover-T/Scripts/\") # need to add path to the parent folder where CV.py is\n",
    "\n",
    "import pandas as pd\n",
    "import numpy as np\n",
    "\n",
    "import matplotlib.pyplot as plt\n",
    "%matplotlib inline\n",
    "\n",
    "import seaborn as sns\n",
    "\n",
    "import warnings\n",
    "warnings.filterwarnings('ignore')\n",
    "\n",
    "from PoverTHelperTools import *"
   ]
  },
  {
   "cell_type": "markdown",
   "metadata": {},
   "source": [
    "# Overview of the data"
   ]
  },
  {
   "cell_type": "code",
   "execution_count": 2,
   "metadata": {
    "collapsed": true
   },
   "outputs": [],
   "source": [
    "hhold_a_train, hhold_b_train, hhold_c_train = load_hhold_train()\n",
    "indiv_a_train, indiv_b_train, indiv_c_train = load_indiv_train()"
   ]
  },
  {
   "cell_type": "markdown",
   "metadata": {},
   "source": [
    "- Two sets of data for each country. Individual and household data.\n",
    "\n",
    "- We will need to predict on households, so the individual data is mainly available to construct new household level features.\n",
    "\n",
    "- All have obfuscated features. \n",
    "\n",
    "- Could come across this on the job --> Facebook data."
   ]
  },
  {
   "cell_type": "code",
   "execution_count": 69,
   "metadata": {},
   "outputs": [
    {
     "data": {
      "text/html": [
       "<div>\n",
       "<style>\n",
       "    .dataframe thead tr:only-child th {\n",
       "        text-align: right;\n",
       "    }\n",
       "\n",
       "    .dataframe thead th {\n",
       "        text-align: left;\n",
       "    }\n",
       "\n",
       "    .dataframe tbody tr th {\n",
       "        vertical-align: top;\n",
       "    }\n",
       "</style>\n",
       "<table border=\"1\" class=\"dataframe\">\n",
       "  <thead>\n",
       "    <tr style=\"text-align: right;\">\n",
       "      <th></th>\n",
       "      <th>wBXbHZmp</th>\n",
       "      <th>SlDKnCuu</th>\n",
       "      <th>KAJOWiiw</th>\n",
       "      <th>DsKacCdL</th>\n",
       "      <th>rtPrBBPl</th>\n",
       "      <th>tMJrvvut</th>\n",
       "      <th>jdetlNNF</th>\n",
       "      <th>maLAYXwi</th>\n",
       "      <th>vwpsXRGk</th>\n",
       "      <th>sArDRIyX</th>\n",
       "      <th>...</th>\n",
       "      <th>sDGibZrP</th>\n",
       "      <th>CsGvKKBJ</th>\n",
       "      <th>OLpGAaEu</th>\n",
       "      <th>LrDrWRjC</th>\n",
       "      <th>JCDeZBXq</th>\n",
       "      <th>HGPWuGlV</th>\n",
       "      <th>GDUPaBQs</th>\n",
       "      <th>WuwrCsIY</th>\n",
       "      <th>AlDbXTlZ</th>\n",
       "      <th>country</th>\n",
       "    </tr>\n",
       "    <tr>\n",
       "      <th>id</th>\n",
       "      <th></th>\n",
       "      <th></th>\n",
       "      <th></th>\n",
       "      <th></th>\n",
       "      <th></th>\n",
       "      <th></th>\n",
       "      <th></th>\n",
       "      <th></th>\n",
       "      <th></th>\n",
       "      <th></th>\n",
       "      <th></th>\n",
       "      <th></th>\n",
       "      <th></th>\n",
       "      <th></th>\n",
       "      <th></th>\n",
       "      <th></th>\n",
       "      <th></th>\n",
       "      <th></th>\n",
       "      <th></th>\n",
       "      <th></th>\n",
       "      <th></th>\n",
       "    </tr>\n",
       "  </thead>\n",
       "  <tbody>\n",
       "    <tr>\n",
       "      <th>46107</th>\n",
       "      <td>JhtDR</td>\n",
       "      <td>GUusz</td>\n",
       "      <td>TuovO</td>\n",
       "      <td>ZYabk</td>\n",
       "      <td>feupP</td>\n",
       "      <td>PHMVg</td>\n",
       "      <td>NDTCU</td>\n",
       "      <td>cLAGr</td>\n",
       "      <td>XAmOF</td>\n",
       "      <td>MwLvg</td>\n",
       "      <td>...</td>\n",
       "      <td>JqHnW</td>\n",
       "      <td>MaXfS</td>\n",
       "      <td>etZsD</td>\n",
       "      <td>idRwx</td>\n",
       "      <td>LPtkN</td>\n",
       "      <td>vkbkA</td>\n",
       "      <td>qQxrL</td>\n",
       "      <td>AITFl</td>\n",
       "      <td>aQeIm</td>\n",
       "      <td>A</td>\n",
       "    </tr>\n",
       "    <tr>\n",
       "      <th>82739</th>\n",
       "      <td>JhtDR</td>\n",
       "      <td>GUusz</td>\n",
       "      <td>TuovO</td>\n",
       "      <td>ZYabk</td>\n",
       "      <td>feupP</td>\n",
       "      <td>PHMVg</td>\n",
       "      <td>NDTCU</td>\n",
       "      <td>sehIp</td>\n",
       "      <td>lwCkE</td>\n",
       "      <td>MwLvg</td>\n",
       "      <td>...</td>\n",
       "      <td>JqHnW</td>\n",
       "      <td>MaXfS</td>\n",
       "      <td>HxnJy</td>\n",
       "      <td>idRwx</td>\n",
       "      <td>UyAms</td>\n",
       "      <td>vkbkA</td>\n",
       "      <td>qQxrL</td>\n",
       "      <td>AITFl</td>\n",
       "      <td>cecIq</td>\n",
       "      <td>A</td>\n",
       "    </tr>\n",
       "  </tbody>\n",
       "</table>\n",
       "<p>2 rows × 345 columns</p>\n",
       "</div>"
      ],
      "text/plain": [
       "      wBXbHZmp SlDKnCuu KAJOWiiw DsKacCdL rtPrBBPl tMJrvvut jdetlNNF maLAYXwi  \\\n",
       "id                                                                              \n",
       "46107    JhtDR    GUusz    TuovO    ZYabk    feupP    PHMVg    NDTCU    cLAGr   \n",
       "82739    JhtDR    GUusz    TuovO    ZYabk    feupP    PHMVg    NDTCU    sehIp   \n",
       "\n",
       "      vwpsXRGk sArDRIyX   ...   sDGibZrP CsGvKKBJ OLpGAaEu LrDrWRjC JCDeZBXq  \\\n",
       "id                        ...                                                  \n",
       "46107    XAmOF    MwLvg   ...      JqHnW    MaXfS    etZsD    idRwx    LPtkN   \n",
       "82739    lwCkE    MwLvg   ...      JqHnW    MaXfS    HxnJy    idRwx    UyAms   \n",
       "\n",
       "      HGPWuGlV GDUPaBQs WuwrCsIY AlDbXTlZ country  \n",
       "id                                                 \n",
       "46107    vkbkA    qQxrL    AITFl    aQeIm       A  \n",
       "82739    vkbkA    qQxrL    AITFl    cecIq       A  \n",
       "\n",
       "[2 rows x 345 columns]"
      ]
     },
     "execution_count": 69,
     "metadata": {},
     "output_type": "execute_result"
    }
   ],
   "source": [
    "hhold_a_train.head(2)"
   ]
  },
  {
   "cell_type": "code",
   "execution_count": 73,
   "metadata": {
    "scrolled": true
   },
   "outputs": [
    {
     "data": {
      "text/html": [
       "<div>\n",
       "<style>\n",
       "    .dataframe thead tr:only-child th {\n",
       "        text-align: right;\n",
       "    }\n",
       "\n",
       "    .dataframe thead th {\n",
       "        text-align: left;\n",
       "    }\n",
       "\n",
       "    .dataframe tbody tr th {\n",
       "        vertical-align: top;\n",
       "    }\n",
       "</style>\n",
       "<table border=\"1\" class=\"dataframe\">\n",
       "  <thead>\n",
       "    <tr style=\"text-align: right;\">\n",
       "      <th></th>\n",
       "      <th></th>\n",
       "      <th>HeUgMnzF</th>\n",
       "      <th>CaukPfUC</th>\n",
       "      <th>MzEtIdUF</th>\n",
       "      <th>gtnNTNam</th>\n",
       "      <th>SWoXNmPc</th>\n",
       "      <th>eXbOkwhI</th>\n",
       "      <th>OdXpbPGJ</th>\n",
       "      <th>XONDGWjH</th>\n",
       "      <th>KsFoQcUV</th>\n",
       "      <th>qYRZCuJD</th>\n",
       "      <th>...</th>\n",
       "      <th>ukWqmeSS</th>\n",
       "      <th>qqVibbSA</th>\n",
       "      <th>MgCoFhXK</th>\n",
       "      <th>rFpoTXAq</th>\n",
       "      <th>RXcLsVAQ</th>\n",
       "      <th>rQWIpTiG</th>\n",
       "      <th>XizJGmbu</th>\n",
       "      <th>xqUooaNJ</th>\n",
       "      <th>poor</th>\n",
       "      <th>country</th>\n",
       "    </tr>\n",
       "    <tr>\n",
       "      <th>id</th>\n",
       "      <th>iid</th>\n",
       "      <th></th>\n",
       "      <th></th>\n",
       "      <th></th>\n",
       "      <th></th>\n",
       "      <th></th>\n",
       "      <th></th>\n",
       "      <th></th>\n",
       "      <th></th>\n",
       "      <th></th>\n",
       "      <th></th>\n",
       "      <th></th>\n",
       "      <th></th>\n",
       "      <th></th>\n",
       "      <th></th>\n",
       "      <th></th>\n",
       "      <th></th>\n",
       "      <th></th>\n",
       "      <th></th>\n",
       "      <th></th>\n",
       "      <th></th>\n",
       "      <th></th>\n",
       "    </tr>\n",
       "  </thead>\n",
       "  <tbody>\n",
       "    <tr>\n",
       "      <th rowspan=\"4\" valign=\"top\">80389</th>\n",
       "      <th>1</th>\n",
       "      <td>XJsPz</td>\n",
       "      <td>mOlYV</td>\n",
       "      <td>UFoKR</td>\n",
       "      <td>SSvEP</td>\n",
       "      <td>onRNG</td>\n",
       "      <td>YXCNt</td>\n",
       "      <td>4.0</td>\n",
       "      <td>oArAw</td>\n",
       "      <td>kpkiH</td>\n",
       "      <td>fohru</td>\n",
       "      <td>...</td>\n",
       "      <td>181</td>\n",
       "      <td>QQdHS</td>\n",
       "      <td>uEstx</td>\n",
       "      <td>Hikoa</td>\n",
       "      <td>zQvdC</td>\n",
       "      <td>xUYIC</td>\n",
       "      <td>juMSt</td>\n",
       "      <td>dSJoN</td>\n",
       "      <td>True</td>\n",
       "      <td>A</td>\n",
       "    </tr>\n",
       "    <tr>\n",
       "      <th>2</th>\n",
       "      <td>XJsPz</td>\n",
       "      <td>mOlYV</td>\n",
       "      <td>axSTs</td>\n",
       "      <td>CXizI</td>\n",
       "      <td>onRNG</td>\n",
       "      <td>YXCNt</td>\n",
       "      <td>4.0</td>\n",
       "      <td>ccbZA</td>\n",
       "      <td>HgfUG</td>\n",
       "      <td>fohru</td>\n",
       "      <td>...</td>\n",
       "      <td>141</td>\n",
       "      <td>QQdHS</td>\n",
       "      <td>uEstx</td>\n",
       "      <td>Hikoa</td>\n",
       "      <td>zQvdC</td>\n",
       "      <td>xUYIC</td>\n",
       "      <td>juMSt</td>\n",
       "      <td>JTCKs</td>\n",
       "      <td>True</td>\n",
       "      <td>A</td>\n",
       "    </tr>\n",
       "    <tr>\n",
       "      <th>3</th>\n",
       "      <td>TRFeI</td>\n",
       "      <td>mOlYV</td>\n",
       "      <td>axSTs</td>\n",
       "      <td>CXizI</td>\n",
       "      <td>NDnCs</td>\n",
       "      <td>YXCNt</td>\n",
       "      <td>4.0</td>\n",
       "      <td>fOUHD</td>\n",
       "      <td>HgfUG</td>\n",
       "      <td>oEref</td>\n",
       "      <td>...</td>\n",
       "      <td>41</td>\n",
       "      <td>QQdHS</td>\n",
       "      <td>gCSRj</td>\n",
       "      <td>Hikoa</td>\n",
       "      <td>zQvdC</td>\n",
       "      <td>rkLqZ</td>\n",
       "      <td>juMSt</td>\n",
       "      <td>JTCKs</td>\n",
       "      <td>True</td>\n",
       "      <td>A</td>\n",
       "    </tr>\n",
       "    <tr>\n",
       "      <th>4</th>\n",
       "      <td>XJsPz</td>\n",
       "      <td>yAyAe</td>\n",
       "      <td>FRcdT</td>\n",
       "      <td>CXizI</td>\n",
       "      <td>onRNG</td>\n",
       "      <td>YXCNt</td>\n",
       "      <td>NaN</td>\n",
       "      <td>fOUHD</td>\n",
       "      <td>HgfUG</td>\n",
       "      <td>fohru</td>\n",
       "      <td>...</td>\n",
       "      <td>16</td>\n",
       "      <td>QQdHS</td>\n",
       "      <td>uEstx</td>\n",
       "      <td>Hikoa</td>\n",
       "      <td>zQvdC</td>\n",
       "      <td>jVHyH</td>\n",
       "      <td>GtHel</td>\n",
       "      <td>JTCKs</td>\n",
       "      <td>True</td>\n",
       "      <td>A</td>\n",
       "    </tr>\n",
       "    <tr>\n",
       "      <th>39883</th>\n",
       "      <th>1</th>\n",
       "      <td>XJsPz</td>\n",
       "      <td>mOlYV</td>\n",
       "      <td>UFoKR</td>\n",
       "      <td>HIvIU</td>\n",
       "      <td>onRNG</td>\n",
       "      <td>YXCNt</td>\n",
       "      <td>4.0</td>\n",
       "      <td>oArAw</td>\n",
       "      <td>kpkiH</td>\n",
       "      <td>fohru</td>\n",
       "      <td>...</td>\n",
       "      <td>381</td>\n",
       "      <td>QQdHS</td>\n",
       "      <td>uEstx</td>\n",
       "      <td>Hikoa</td>\n",
       "      <td>zQvdC</td>\n",
       "      <td>xUYIC</td>\n",
       "      <td>juMSt</td>\n",
       "      <td>UaIsy</td>\n",
       "      <td>False</td>\n",
       "      <td>A</td>\n",
       "    </tr>\n",
       "  </tbody>\n",
       "</table>\n",
       "<p>5 rows × 42 columns</p>\n",
       "</div>"
      ],
      "text/plain": [
       "          HeUgMnzF CaukPfUC MzEtIdUF gtnNTNam SWoXNmPc eXbOkwhI  OdXpbPGJ  \\\n",
       "id    iid                                                                   \n",
       "80389 1      XJsPz    mOlYV    UFoKR    SSvEP    onRNG    YXCNt       4.0   \n",
       "      2      XJsPz    mOlYV    axSTs    CXizI    onRNG    YXCNt       4.0   \n",
       "      3      TRFeI    mOlYV    axSTs    CXizI    NDnCs    YXCNt       4.0   \n",
       "      4      XJsPz    yAyAe    FRcdT    CXizI    onRNG    YXCNt       NaN   \n",
       "39883 1      XJsPz    mOlYV    UFoKR    HIvIU    onRNG    YXCNt       4.0   \n",
       "\n",
       "          XONDGWjH KsFoQcUV qYRZCuJD   ...   ukWqmeSS qqVibbSA MgCoFhXK  \\\n",
       "id    iid                              ...                                \n",
       "80389 1      oArAw    kpkiH    fohru   ...        181    QQdHS    uEstx   \n",
       "      2      ccbZA    HgfUG    fohru   ...        141    QQdHS    uEstx   \n",
       "      3      fOUHD    HgfUG    oEref   ...         41    QQdHS    gCSRj   \n",
       "      4      fOUHD    HgfUG    fohru   ...         16    QQdHS    uEstx   \n",
       "39883 1      oArAw    kpkiH    fohru   ...        381    QQdHS    uEstx   \n",
       "\n",
       "          rFpoTXAq RXcLsVAQ rQWIpTiG XizJGmbu xqUooaNJ   poor country  \n",
       "id    iid                                                              \n",
       "80389 1      Hikoa    zQvdC    xUYIC    juMSt    dSJoN   True       A  \n",
       "      2      Hikoa    zQvdC    xUYIC    juMSt    JTCKs   True       A  \n",
       "      3      Hikoa    zQvdC    rkLqZ    juMSt    JTCKs   True       A  \n",
       "      4      Hikoa    zQvdC    jVHyH    GtHel    JTCKs   True       A  \n",
       "39883 1      Hikoa    zQvdC    xUYIC    juMSt    UaIsy  False       A  \n",
       "\n",
       "[5 rows x 42 columns]"
      ]
     },
     "execution_count": 73,
     "metadata": {},
     "output_type": "execute_result"
    }
   ],
   "source": [
    "indiv_a_train.head()"
   ]
  },
  {
   "cell_type": "code",
   "execution_count": 3,
   "metadata": {
    "scrolled": true
   },
   "outputs": [
    {
     "name": "stdout",
     "output_type": "stream",
     "text": [
      "Number of samples and features: \n",
      "A (8203, 345)\n",
      "B (3255, 442)\n",
      "C (6469, 164)\n"
     ]
    }
   ],
   "source": [
    "print('Number of samples and features: ')\n",
    "print('A', hhold_a_train.shape)\n",
    "print('B', hhold_b_train.shape)\n",
    "print('C', hhold_c_train.shape)"
   ]
  },
  {
   "cell_type": "markdown",
   "metadata": {},
   "source": [
    "Lots of features, not a huge amount of samples."
   ]
  },
  {
   "cell_type": "code",
   "execution_count": 5,
   "metadata": {},
   "outputs": [
    {
     "name": "stdout",
     "output_type": "stream",
     "text": [
      "a_train contains:\n",
      "<class 'pandas.core.frame.DataFrame'>\n",
      "Int64Index: 8203 entries, 46107 to 39832\n",
      "Columns: 345 entries, wBXbHZmp to country\n",
      "dtypes: bool(1), float64(2), int64(2), object(340)\n",
      "memory usage: 21.6+ MB\n",
      "None\n"
     ]
    }
   ],
   "source": [
    "print('a_train contains:')\n",
    "print(hhold_a_train.info())"
   ]
  },
  {
   "cell_type": "markdown",
   "metadata": {},
   "source": [
    "We have mostly categorical data for country A, some numerical data"
   ]
  },
  {
   "cell_type": "markdown",
   "metadata": {},
   "source": [
    "# Target balance?"
   ]
  },
  {
   "cell_type": "code",
   "execution_count": 29,
   "metadata": {},
   "outputs": [
    {
     "name": "stdout",
     "output_type": "stream",
     "text": [
      "Percent True for country ['A']: 45.14\n",
      "Percent True for country ['B']: 7.71\n",
      "Percent True for country ['C']: 15.04\n"
     ]
    }
   ],
   "source": [
    "def target_ratio(df):\n",
    "    positive = df[df['poor'] == 1].shape[0]\n",
    "    return (positive/df.shape[0]*100)\n",
    "\n",
    "for i in [hhold_a_train, hhold_b_train, hhold_c_train]:\n",
    "    print('Percent True for country {}: {:0.2f}'.format(i['country'].unique(),target_ratio(i)))"
   ]
  },
  {
   "cell_type": "markdown",
   "metadata": {},
   "source": [
    "-A is fairly balanced, but B and C are heavily imbalanced.\n",
    "\n",
    "-Metric, and approach will depend on this knowledge."
   ]
  },
  {
   "cell_type": "code",
   "execution_count": 16,
   "metadata": {},
   "outputs": [
    {
     "data": {
      "image/png": "[encoded data removed]",
      "text/plain": [
       "<matplotlib.figure.Figure at 0x110da65f8>"
      ]
     },
     "metadata": {},
     "output_type": "display_data"
    }
   ],
   "source": [
    "fig, ax = plt.subplots(1,3, figsize=(10,5))\n",
    "sns.countplot(hhold_a_train['poor'], ax = ax[0])\n",
    "ax[0].set_title('Country A')\n",
    "sns.countplot(hhold_b_train['poor'], ax = ax[1])\n",
    "ax[1].set_title('Country B')\n",
    "sns.countplot(hhold_c_train['poor'], ax = ax[2])\n",
    "ax[2].set_title('Country C')\n",
    "sns.despine()\n",
    "plt.tight_layout()"
   ]
  },
  {
   "cell_type": "markdown",
   "metadata": {},
   "source": [
    "# Data cleaning and feature engineering"
   ]
  },
  {
   "cell_type": "markdown",
   "metadata": {},
   "source": [
    "Started with a benchmark RandomForest model with all features. One model for each country, then concatenate results into a single submission. (~0.57 mean logloss)\n",
    "\n",
    "- Can I improve with feature engineering and data cleaning?"
   ]
  },
  {
   "cell_type": "markdown",
   "metadata": {},
   "source": [
    "#### NaNs\n",
    "\n",
    "Only country B has NaNs, and there are alot. I just tossed them. Improved logloss to ~0.2 just by doing this."
   ]
  },
  {
   "cell_type": "code",
   "execution_count": 100,
   "metadata": {},
   "outputs": [
    {
     "name": "stdout",
     "output_type": "stream",
     "text": [
      "Country A:  []\n",
      "Country B:  ['FGWqGkmD', 'BXOWgPgL', 'umkFMfvA', 'McFBIGsm', 'IrxBnWxE', 'BRzuVmyf', 'dnlnKrAg', 'aAufyreG', 'OSmfjCbE']\n",
      "Country C:  []\n",
      "FGWqGkmD    2653\n",
      "BXOWgPgL     751\n",
      "umkFMfvA    2365\n",
      "McFBIGsm     751\n",
      "IrxBnWxE    2983\n",
      "BRzuVmyf    1461\n",
      "dnlnKrAg    2723\n",
      "aAufyreG    2346\n",
      "OSmfjCbE     751\n",
      "dtype: int64\n"
     ]
    }
   ],
   "source": [
    "print('Country A: ',hhold_a_train.columns[hhold_a_train.isnull().any()].tolist())\n",
    "print('Country B: ',hhold_b_train.columns[hhold_b_train.isnull().any()].tolist())\n",
    "print('Country C: ',hhold_c_train.columns[hhold_c_train.isnull().any()].tolist())\n",
    "\n",
    "nulls_b = hhold_b_train[hhold_b_train.columns[hhold_b_train.isnull().any()].tolist()]\n",
    "print(nulls_b.isnull().sum())"
   ]
  },
  {
   "cell_type": "code",
   "execution_count": 32,
   "metadata": {
    "collapsed": true
   },
   "outputs": [],
   "source": [
    "def select_numerical(df):\n",
    "    num = df.select_dtypes(include=['int64', 'float64'])   \n",
    "    return num\n",
    "\n",
    "def select_categorical(df):\n",
    "    cat = df.select_dtypes(include=['object', 'category'])   \n",
    "    return cat"
   ]
  },
  {
   "cell_type": "code",
   "execution_count": 35,
   "metadata": {},
   "outputs": [],
   "source": [
    "# using country A as an example\n",
    "a_num = select_numerical(hhold_a_train)\n",
    "a_num['poor'] = hhold_a_train['poor']"
   ]
  },
  {
   "cell_type": "markdown",
   "metadata": {},
   "source": [
    "#### Numericals\n",
    "\n",
    "There are thousands of samples, but < 20 unique values for most of the numericals...maybe some are categorical? Maybe some have a range of limited values, like # of children?\n",
    "\n",
    "Converting these into categoricals and one-hot encoding them performed the best."
   ]
  },
  {
   "cell_type": "code",
   "execution_count": 48,
   "metadata": {},
   "outputs": [
    {
     "name": "stdout",
     "output_type": "stream",
     "text": [
      "nEsgxvAq 11\n",
      "OMtioXZZ 13\n",
      "YFMZwKrU 6\n",
      "TiwRslOh 18\n"
     ]
    }
   ],
   "source": [
    "for col in a_num.columns[:-1]: # [:-1] don't include 'poor' in the columns\n",
    "    print(col, a_num[col].nunique())"
   ]
  },
  {
   "cell_type": "code",
   "execution_count": 51,
   "metadata": {},
   "outputs": [
    {
     "data": {
      "image/png": "[encoded data removed]",
      "text/plain": [
       "<matplotlib.figure.Figure at 0x112b72748>"
      ]
     },
     "metadata": {},
     "output_type": "display_data"
    }
   ],
   "source": [
    "fig, ax = plt.subplots(1,4, figsize = (20,5))\n",
    "for i, col in enumerate(a_num.columns[:-1]):\n",
    "    sns.kdeplot(a_num[a_num['poor']==1][col], ax=ax[i])\n",
    "    sns.kdeplot(a_num[a_num['poor']==0][col], ax=ax[i])"
   ]
  },
  {
   "cell_type": "markdown",
   "metadata": {},
   "source": [
    "- Overlapping distributions, not predictive. But TwRsIOh looks like there's some seperation"
   ]
  },
  {
   "cell_type": "markdown",
   "metadata": {},
   "source": [
    "#### Categoricals "
   ]
  },
  {
   "cell_type": "code",
   "execution_count": 77,
   "metadata": {},
   "outputs": [],
   "source": [
    "a_cat = select_categorical(hhold_a_train)\n",
    "a_cat['poor'] = hhold_a_train['poor']\n",
    "\n",
    "c_cat = select_categorical(hhold_c_train)\n",
    "c_cat['poor'] = hhold_c_train['poor']"
   ]
  },
  {
   "cell_type": "code",
   "execution_count": 63,
   "metadata": {},
   "outputs": [
    {
     "name": "stdout",
     "output_type": "stream",
     "text": [
      "There are 340 categorical columns.\n"
     ]
    }
   ],
   "source": [
    "print('There are {} categorical columns.'.format(len(a_cat.columns[:-1])))"
   ]
  },
  {
   "cell_type": "markdown",
   "metadata": {},
   "source": [
    "Let's see which ones are useful"
   ]
  },
  {
   "cell_type": "code",
   "execution_count": 76,
   "metadata": {},
   "outputs": [
    {
     "data": {
      "text/plain": [
       "<matplotlib.axes._subplots.AxesSubplot at 0x117641828>"
      ]
     },
     "execution_count": 76,
     "metadata": {},
     "output_type": "execute_result"
    },
    {
     "data": {
      "image/png": "[encoded data removed]",
      "text/plain": [
       "<matplotlib.figure.Figure at 0x11767ec50>"
      ]
     },
     "metadata": {},
     "output_type": "display_data"
    }
   ],
   "source": [
    "fig, ax = plt.subplots(1,2, figsize=(15,5))\n",
    "sns.barplot('poor', y = 'poor', hue = 'SlDKnCuu', data = a_cat,estimator=lambda x: len(x) / len(a_cat) * 100, ax = ax[0])\n",
    "plt.ylabel('Percent of feature')\n",
    "sns.barplot('poor', y = 'poor', hue = 'QyBloWXZ', data = a_cat,estimator=lambda x: len(x) / len(a_cat) * 100, ax = ax[1])"
   ]
  },
  {
   "cell_type": "markdown",
   "metadata": {},
   "source": [
    "Most features in A looked like the one on the left; about even split.\n",
    "\n",
    "The feature on the right is more distinct. There's ~45% probability that if a sample is LKzoc in feature QyBloWXZ, that it would be False for the target. \n",
    "\n",
    "My hypothesis is that since A is more balanced, features like QyBloWXZ would be more useful. Kept features like this, tossed the rest.\n",
    "\n",
    "Country B and C are a different story."
   ]
  },
  {
   "cell_type": "code",
   "execution_count": 79,
   "metadata": {},
   "outputs": [
    {
     "data": {
      "text/plain": [
       "<matplotlib.axes._subplots.AxesSubplot at 0x1177a6d68>"
      ]
     },
     "execution_count": 79,
     "metadata": {},
     "output_type": "execute_result"
    },
    {
     "data": {
      "image/png": "[encoded data removed]",
      "text/plain": [
       "<matplotlib.figure.Figure at 0x117388898>"
      ]
     },
     "metadata": {},
     "output_type": "display_data"
    }
   ],
   "source": [
    "sns.barplot('poor', y = 'poor', hue = 'LbGNqKmW', data = c_cat,estimator=lambda x: len(x) / len(a_cat) * 100)"
   ]
  },
  {
   "cell_type": "markdown",
   "metadata": {},
   "source": [
    "Basically all features looked like this.\n",
    "\n",
    "Recall B and C are unbalanced, vast majority of targets in the training set is 'False'. So this doesn't tell us anything!\n",
    "\n",
    "Tossed all categoricals for B and C"
   ]
  },
  {
   "cell_type": "markdown",
   "metadata": {},
   "source": [
    "#### Other things:\n",
    "\n",
    "Some features only had one unique value, so I tossed those.\n",
    "\n",
    "Also tossed numerical columns that were highly correlated to others."
   ]
  },
  {
   "cell_type": "markdown",
   "metadata": {},
   "source": [
    "#### Creating new features\n",
    "\n",
    "Added up number of responses in 'individual' data set per household. This might represent number of individuals in the household."
   ]
  },
  {
   "cell_type": "code",
   "execution_count": 103,
   "metadata": {},
   "outputs": [
    {
     "data": {
      "text/html": [
       "<div>\n",
       "<style>\n",
       "    .dataframe thead tr:only-child th {\n",
       "        text-align: right;\n",
       "    }\n",
       "\n",
       "    .dataframe thead th {\n",
       "        text-align: left;\n",
       "    }\n",
       "\n",
       "    .dataframe tbody tr th {\n",
       "        vertical-align: top;\n",
       "    }\n",
       "</style>\n",
       "<table border=\"1\" class=\"dataframe\">\n",
       "  <thead>\n",
       "    <tr style=\"text-align: right;\">\n",
       "      <th></th>\n",
       "      <th>wBXbHZmp</th>\n",
       "      <th>SlDKnCuu</th>\n",
       "      <th>KAJOWiiw</th>\n",
       "      <th>DsKacCdL</th>\n",
       "      <th>rtPrBBPl</th>\n",
       "      <th>tMJrvvut</th>\n",
       "      <th>jdetlNNF</th>\n",
       "      <th>maLAYXwi</th>\n",
       "      <th>vwpsXRGk</th>\n",
       "      <th>sArDRIyX</th>\n",
       "      <th>...</th>\n",
       "      <th>CsGvKKBJ</th>\n",
       "      <th>OLpGAaEu</th>\n",
       "      <th>LrDrWRjC</th>\n",
       "      <th>JCDeZBXq</th>\n",
       "      <th>HGPWuGlV</th>\n",
       "      <th>GDUPaBQs</th>\n",
       "      <th>WuwrCsIY</th>\n",
       "      <th>AlDbXTlZ</th>\n",
       "      <th>country</th>\n",
       "      <th>num_indiv</th>\n",
       "    </tr>\n",
       "    <tr>\n",
       "      <th>id</th>\n",
       "      <th></th>\n",
       "      <th></th>\n",
       "      <th></th>\n",
       "      <th></th>\n",
       "      <th></th>\n",
       "      <th></th>\n",
       "      <th></th>\n",
       "      <th></th>\n",
       "      <th></th>\n",
       "      <th></th>\n",
       "      <th></th>\n",
       "      <th></th>\n",
       "      <th></th>\n",
       "      <th></th>\n",
       "      <th></th>\n",
       "      <th></th>\n",
       "      <th></th>\n",
       "      <th></th>\n",
       "      <th></th>\n",
       "      <th></th>\n",
       "      <th></th>\n",
       "    </tr>\n",
       "  </thead>\n",
       "  <tbody>\n",
       "    <tr>\n",
       "      <th>46107</th>\n",
       "      <td>JhtDR</td>\n",
       "      <td>GUusz</td>\n",
       "      <td>TuovO</td>\n",
       "      <td>ZYabk</td>\n",
       "      <td>feupP</td>\n",
       "      <td>PHMVg</td>\n",
       "      <td>NDTCU</td>\n",
       "      <td>cLAGr</td>\n",
       "      <td>XAmOF</td>\n",
       "      <td>MwLvg</td>\n",
       "      <td>...</td>\n",
       "      <td>MaXfS</td>\n",
       "      <td>etZsD</td>\n",
       "      <td>idRwx</td>\n",
       "      <td>LPtkN</td>\n",
       "      <td>vkbkA</td>\n",
       "      <td>qQxrL</td>\n",
       "      <td>AITFl</td>\n",
       "      <td>aQeIm</td>\n",
       "      <td>A</td>\n",
       "      <td>6</td>\n",
       "    </tr>\n",
       "    <tr>\n",
       "      <th>82739</th>\n",
       "      <td>JhtDR</td>\n",
       "      <td>GUusz</td>\n",
       "      <td>TuovO</td>\n",
       "      <td>ZYabk</td>\n",
       "      <td>feupP</td>\n",
       "      <td>PHMVg</td>\n",
       "      <td>NDTCU</td>\n",
       "      <td>sehIp</td>\n",
       "      <td>lwCkE</td>\n",
       "      <td>MwLvg</td>\n",
       "      <td>...</td>\n",
       "      <td>MaXfS</td>\n",
       "      <td>HxnJy</td>\n",
       "      <td>idRwx</td>\n",
       "      <td>UyAms</td>\n",
       "      <td>vkbkA</td>\n",
       "      <td>qQxrL</td>\n",
       "      <td>AITFl</td>\n",
       "      <td>cecIq</td>\n",
       "      <td>A</td>\n",
       "      <td>3</td>\n",
       "    </tr>\n",
       "    <tr>\n",
       "      <th>9646</th>\n",
       "      <td>JhtDR</td>\n",
       "      <td>GUusz</td>\n",
       "      <td>BIZns</td>\n",
       "      <td>ZYabk</td>\n",
       "      <td>uxuSS</td>\n",
       "      <td>PHMVg</td>\n",
       "      <td>NDTCU</td>\n",
       "      <td>sehIp</td>\n",
       "      <td>qNABl</td>\n",
       "      <td>MwLvg</td>\n",
       "      <td>...</td>\n",
       "      <td>MaXfS</td>\n",
       "      <td>USRak</td>\n",
       "      <td>idRwx</td>\n",
       "      <td>UyAms</td>\n",
       "      <td>vkbkA</td>\n",
       "      <td>qQxrL</td>\n",
       "      <td>AITFl</td>\n",
       "      <td>cecIq</td>\n",
       "      <td>A</td>\n",
       "      <td>6</td>\n",
       "    </tr>\n",
       "    <tr>\n",
       "      <th>10975</th>\n",
       "      <td>JhtDR</td>\n",
       "      <td>GUusz</td>\n",
       "      <td>TuovO</td>\n",
       "      <td>ZYabk</td>\n",
       "      <td>feupP</td>\n",
       "      <td>PHMVg</td>\n",
       "      <td>NDTCU</td>\n",
       "      <td>sehIp</td>\n",
       "      <td>sPNOc</td>\n",
       "      <td>MwLvg</td>\n",
       "      <td>...</td>\n",
       "      <td>MaXfS</td>\n",
       "      <td>USRak</td>\n",
       "      <td>idRwx</td>\n",
       "      <td>UyAms</td>\n",
       "      <td>vkbkA</td>\n",
       "      <td>qQxrL</td>\n",
       "      <td>AITFl</td>\n",
       "      <td>cecIq</td>\n",
       "      <td>A</td>\n",
       "      <td>3</td>\n",
       "    </tr>\n",
       "    <tr>\n",
       "      <th>16463</th>\n",
       "      <td>JhtDR</td>\n",
       "      <td>alLXR</td>\n",
       "      <td>TuovO</td>\n",
       "      <td>ZYabk</td>\n",
       "      <td>feupP</td>\n",
       "      <td>PHMVg</td>\n",
       "      <td>NDTCU</td>\n",
       "      <td>cLAGr</td>\n",
       "      <td>NdlDR</td>\n",
       "      <td>MwLvg</td>\n",
       "      <td>...</td>\n",
       "      <td>MaXfS</td>\n",
       "      <td>etZsD</td>\n",
       "      <td>idRwx</td>\n",
       "      <td>UyAms</td>\n",
       "      <td>vkbkA</td>\n",
       "      <td>qQxrL</td>\n",
       "      <td>GAZGl</td>\n",
       "      <td>aQeIm</td>\n",
       "      <td>A</td>\n",
       "      <td>5</td>\n",
       "    </tr>\n",
       "  </tbody>\n",
       "</table>\n",
       "<p>5 rows × 346 columns</p>\n",
       "</div>"
      ],
      "text/plain": [
       "      wBXbHZmp SlDKnCuu KAJOWiiw DsKacCdL rtPrBBPl tMJrvvut jdetlNNF maLAYXwi  \\\n",
       "id                                                                              \n",
       "46107    JhtDR    GUusz    TuovO    ZYabk    feupP    PHMVg    NDTCU    cLAGr   \n",
       "82739    JhtDR    GUusz    TuovO    ZYabk    feupP    PHMVg    NDTCU    sehIp   \n",
       "9646     JhtDR    GUusz    BIZns    ZYabk    uxuSS    PHMVg    NDTCU    sehIp   \n",
       "10975    JhtDR    GUusz    TuovO    ZYabk    feupP    PHMVg    NDTCU    sehIp   \n",
       "16463    JhtDR    alLXR    TuovO    ZYabk    feupP    PHMVg    NDTCU    cLAGr   \n",
       "\n",
       "      vwpsXRGk sArDRIyX    ...    CsGvKKBJ OLpGAaEu LrDrWRjC JCDeZBXq  \\\n",
       "id                         ...                                          \n",
       "46107    XAmOF    MwLvg    ...       MaXfS    etZsD    idRwx    LPtkN   \n",
       "82739    lwCkE    MwLvg    ...       MaXfS    HxnJy    idRwx    UyAms   \n",
       "9646     qNABl    MwLvg    ...       MaXfS    USRak    idRwx    UyAms   \n",
       "10975    sPNOc    MwLvg    ...       MaXfS    USRak    idRwx    UyAms   \n",
       "16463    NdlDR    MwLvg    ...       MaXfS    etZsD    idRwx    UyAms   \n",
       "\n",
       "      HGPWuGlV GDUPaBQs WuwrCsIY AlDbXTlZ country num_indiv  \n",
       "id                                                           \n",
       "46107    vkbkA    qQxrL    AITFl    aQeIm       A         6  \n",
       "82739    vkbkA    qQxrL    AITFl    cecIq       A         3  \n",
       "9646     vkbkA    qQxrL    AITFl    cecIq       A         6  \n",
       "10975    vkbkA    qQxrL    AITFl    cecIq       A         3  \n",
       "16463    vkbkA    qQxrL    GAZGl    aQeIm       A         5  \n",
       "\n",
       "[5 rows x 346 columns]"
      ]
     },
     "execution_count": 103,
     "metadata": {},
     "output_type": "execute_result"
    }
   ],
   "source": [
    "hhold_a_train['num_indiv'] = indiv_a_train.reset_index().groupby('id')['iid'].nunique()\n",
    "hhold_a_train.head()"
   ]
  },
  {
   "cell_type": "markdown",
   "metadata": {},
   "source": [
    "# Machine Learning"
   ]
  },
  {
   "cell_type": "markdown",
   "metadata": {},
   "source": [
    "#### Cross validation\n",
    "\n",
    "Difficult to create a cross validation that would emulate the test set. \n",
    "\n",
    "- Some things that helped:\n",
    "\n",
    "- Stratified KFold:\n",
    "    - Within the KFold CV loop:\n",
    "        - Resample the minority class (Tried up and down sampling, as well as SMOTE) Up and Downsampling were similar in performance. SMOTE made things worse\n",
    "        \n",
    "- Using resampling on the whole train set to predict on test set made things worse! \n",
    "\n",
    "- Hypothesis: Test set and Train set distributions were different. Tried adveserial validation. \n",
    "\n",
    "- Result: Classifier can not distinguish between train and test set samples; they are of similar distributions.\n",
    "\n",
    "- My guess now: Train set is highly unbalanced, but test set might be balanced."
   ]
  },
  {
   "cell_type": "markdown",
   "metadata": {},
   "source": [
    "#### Models"
   ]
  },
  {
   "cell_type": "markdown",
   "metadata": {},
   "source": [
    "XGBoost was the best. Used GridSearch to tune better."
   ]
  },
  {
   "cell_type": "markdown",
   "metadata": {},
   "source": [
    "# Key Takeaway: Problem with metric\n",
    "\n",
    " Fundamental problem with the competition: Log loss is similar to using accuracy to measure performance on unbalanced data sets, it's not a good metric.\n",
    "\n",
    "- Does not distinguish between False Positives/Negatives.\n",
    "- Penalizes strongly confident but wrong predictions, but penalizes timid but wrong predictions much less.\n",
    "- Example: with a threshold of 0.5, the model can predict 'False' with probability of ~0.4 or ~0.1\n",
    "    - Log loss for 0.4 is 0.92\n",
    "    - Log loss for 0.1 is 2.3!\n",
    "\n",
    "\n",
    "- Should use another metric or combination of metrics\n",
    "\n",
    "\n",
    "Demonstration:"
   ]
  },
  {
   "cell_type": "code",
   "execution_count": 109,
   "metadata": {},
   "outputs": [],
   "source": [
    "# Note: activate env, then run CV_B.py and CV_B_resampled.py"
   ]
  }
 ],
 "metadata": {
  "kernelspec": {
   "display_name": "Python [DeepLearning]",
   "language": "python",
   "name": "Python [DeepLearning]"
  },
  "language_info": {
   "codemirror_mode": {
    "name": "ipython",
    "version": 3
   },
   "file_extension": ".py",
   "mimetype": "text/x-python",
   "name": "python",
   "nbconvert_exporter": "python",
   "pygments_lexer": "ipython3",
   "version": "3.6.1"
  }
 },
 "nbformat": 4,
 "nbformat_minor": 2
}
